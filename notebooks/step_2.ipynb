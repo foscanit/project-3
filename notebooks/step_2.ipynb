{
 "cells": [
  {
   "cell_type": "code",
   "execution_count": null,
   "id": "1d88f308",
   "metadata": {},
   "outputs": [],
   "source": [
    "##### Para tomar la decision\n",
    "# 1. Hacer circulos con folium.Circle() por cada empresa con X radio\n",
    "\n",
    "---------------------------------------------------------------------------------\n",
    "##### Por completitud\n",
    "# 2. Insertar los datos a mongoDB\n",
    "    # 2.1. Una colección para starbucks, una para colegios, una para...\n",
    "        # {name: loquiesea, \n",
    "           # \"geometry\": \n",
    "                    # \"type\",\n",
    "                    # \"coordenadas\"}\n",
    "    # 2.2. Crear índices de 2-d sphere\n",
    "    \n",
    "--------------------------------------------------------------------------------    \n",
    "##### Geoqueries: para medir distancias o cuánto hay de cada cosa en X\n",
    "    # starbucks.find( $near: esta empresa) -> la empresa más cercana\n",
    "    # empresa & starbucks más cercano: minimum distance\n",
    "    # df: empresa \\ dist_starbucks_más_cercano |dist_guarderia_más_cercano\n",
    "        # ponderar & ordenar\n",
    "    "
   ]
  }
 ],
 "metadata": {
  "kernelspec": {
   "display_name": "ironhack",
   "language": "python",
   "name": "ironhack"
  },
  "language_info": {
   "codemirror_mode": {
    "name": "ipython",
    "version": 3
   },
   "file_extension": ".py",
   "mimetype": "text/x-python",
   "name": "python",
   "nbconvert_exporter": "python",
   "pygments_lexer": "ipython3",
   "version": "3.11.5"
  }
 },
 "nbformat": 4,
 "nbformat_minor": 5
}
