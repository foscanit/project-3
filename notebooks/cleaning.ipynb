{
 "cells": [
  {
   "cell_type": "code",
   "execution_count": 1,
   "id": "76a7e643",
   "metadata": {},
   "outputs": [],
   "source": [
    "import requests\n",
    "import json\n",
    "import pandas as pd\n",
    "from getpass import getpass\n",
    "import os\n",
    "from dotenv import load_dotenv\n",
    "import geopandas as gpd\n",
    "from cartoframes.viz import Map, Layer, popup_element\n",
    "import time\n",
    "import folium\n",
    "from folium import Choropleth, Circle, Marker, Icon, Map\n",
    "from folium.plugins import HeatMap, MarkerCluster\n",
    "from pymongo import MongoClient\n",
    "from geopy.geocoders import Nominatim"
   ]
  },
  {
   "cell_type": "code",
   "execution_count": 3,
   "id": "fcfd028b",
   "metadata": {},
   "outputs": [],
   "source": [
    "def mongo_city():\n",
    "    client = MongoClient(\"localhost:27017\")\n",
    "    db = client[\"Ironhack\"]\n",
    "    c = db.get_collection(\"companies\")\n",
    "    \n",
    "    \n",
    "    filters4 = {\"category_code\": \"games_video\", \"offices.city\": \"Tokyo\"}\n",
    "    projection4 = {'name': 1, '_id': 0, 'offices': 1, 'category_code': 1}\n",
    "    Tok = list(c.find(filters4, projection4).sort('number_of_employees', -1))\n",
    "    \n",
    "    # Extract the relevant information from the nested structure\n",
    "    tok_df = []\n",
    "    for entry in Tok:\n",
    "        name = entry['name']\n",
    "        category_code = entry['category_code']\n",
    "        for office in entry['offices']:\n",
    "            description = office.get('description', '')\n",
    "            address1 = office.get('address1', '')\n",
    "            address2 = office.get('address2', '')\n",
    "            zip_code = office.get('zip_code', '')\n",
    "            city = office.get('city', '')\n",
    "            country_code = office.get('country_code', '')\n",
    "            tok_df.append([name, category_code, description, address1, address2, zip_code, city, country_code])\n",
    "\n",
    "    # Create the DataFrame\n",
    "    columns = ['name', 'category_code', 'description', 'address1', 'address2', 'zip_code', 'city', 'country_code']\n",
    "    tok_df = pd.DataFrame(tok_df, columns=columns)\n",
    "    \n",
    "    tok_df = tok_df.drop_duplicates() \n",
    "    \n",
    "    tok_df['lat'] = None  \n",
    "    tok_df['lon'] = None  \n",
    "    \n",
    "    desired_value = 'Tokyo'\n",
    "    tok_df = tok_df[tok_df['city'] == desired_value]\n",
    "    \n",
    "    tok_df.at[0, 'lat'] = 35.6948056\n",
    "    tok_df.at[0, 'lon'] = 139.6393433\n",
    "    tok_df.at[2, 'lat'] = 35.6587603\n",
    "    tok_df.at[2, 'lon'] = 139.72941112\n",
    "    tok_df.at[3, 'lat'] = 35.7122007\n",
    "    tok_df.at[3, 'lon'] = 139.7021159\n",
    "    tok_df.at[7, 'lat'] = 35.6871672\n",
    "    tok_df.at[7, 'lon'] = 139.7867856\n",
    "    tok_df.at[8, 'lat'] = 35.6633886\n",
    "    tok_df.at[8, 'lon'] = 139.6655874\n",
    "    tok_df.at[9, 'lat'] = 35.6898602\n",
    "    tok_df.at[9, 'lon'] = 139.6899144\n",
    "    tok_df.at[10, 'lat'] = 35.664797\n",
    "    tok_df.at[10, 'lon'] = 139.7086912\n",
    "    \n",
    "    return tok_df"
   ]
  },
  {
   "cell_type": "code",
   "execution_count": 11,
   "id": "93343507",
   "metadata": {},
   "outputs": [],
   "source": [
    "def tech_startup():\n",
    "    start_ups = pd.read_csv(\"/Users/usuari/Desktop/Ironhack/BOOTCAMP/projects/project-3/data/startups.csv\")\n",
    "    start = start_ups.dropna(subset=[\"lat\"])\n",
    "    start = start.drop(20)\n",
    "    \n",
    "    return start"
   ]
  },
  {
   "cell_type": "code",
   "execution_count": 12,
   "id": "1dcb2cdb",
   "metadata": {},
   "outputs": [],
   "source": [
    "def import_dog():\n",
    "    \n",
    "    dog = pd.read_csv(\"/Users/usuari/Desktop/Ironhack/BOOTCAMP/projects/project-3/data/dog.csv\")\n",
    "    \n",
    "    return dog   "
   ]
  },
  {
   "cell_type": "code",
   "execution_count": 13,
   "id": "7e2c3f8c",
   "metadata": {},
   "outputs": [],
   "source": [
    "def import_guardes():\n",
    "    \n",
    "    guardes = pd.read_csv(\"/Users/usuari/Desktop/Ironhack/BOOTCAMP/projects/project-3/data/guardes.csv\")\n",
    "    \n",
    "    return guardes"
   ]
  },
  {
   "cell_type": "code",
   "execution_count": 14,
   "id": "9d598418",
   "metadata": {},
   "outputs": [],
   "source": [
    "def import_kara():\n",
    "    \n",
    "    kara = pd.read_csv(\"/Users/usuari/Desktop/Ironhack/BOOTCAMP/projects/project-3/data/kara.csv\")\n",
    "    \n",
    "    return kara"
   ]
  },
  {
   "cell_type": "code",
   "execution_count": 15,
   "id": "abdc0b5b",
   "metadata": {},
   "outputs": [],
   "source": [
    "def import_starbucks():\n",
    "    \n",
    "    starbucks = pd.read_csv(\"/Users/usuari/Desktop/Ironhack/BOOTCAMP/projects/project-3/data/starbucks.csv\")\n",
    "    \n",
    "    return starbucks"
   ]
  },
  {
   "cell_type": "code",
   "execution_count": 16,
   "id": "2f008d40",
   "metadata": {},
   "outputs": [],
   "source": [
    "def import_train():\n",
    "    \n",
    "    train = pd.read_csv(\"/Users/usuari/Desktop/Ironhack/BOOTCAMP/projects/project-3/data/train.csv\")\n",
    "    \n",
    "    return train"
   ]
  },
  {
   "cell_type": "code",
   "execution_count": 17,
   "id": "d05273a9",
   "metadata": {},
   "outputs": [],
   "source": [
    "def import_veg():\n",
    "    \n",
    "    veg = pd.read_csv(\"/Users/usuari/Desktop/Ironhack/BOOTCAMP/projects/project-3/data/veg.csv\")\n",
    "    \n",
    "    return veg"
   ]
  }
 ],
 "metadata": {
  "kernelspec": {
   "display_name": "ironhack",
   "language": "python",
   "name": "ironhack"
  },
  "language_info": {
   "codemirror_mode": {
    "name": "ipython",
    "version": 3
   },
   "file_extension": ".py",
   "mimetype": "text/x-python",
   "name": "python",
   "nbconvert_exporter": "python",
   "pygments_lexer": "ipython3",
   "version": "3.11.5"
  }
 },
 "nbformat": 4,
 "nbformat_minor": 5
}
